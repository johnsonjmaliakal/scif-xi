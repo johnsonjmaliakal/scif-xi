{
  "metadata": {
    "language_info": {
      "mimetype": "text/x-python",
      "nbconvert_exporter": "python",
      "name": "python",
      "pygments_lexer": "ipython3",
      "version": "3.6.6",
      "file_extension": ".py",
      "codemirror_mode": {
        "version": 3,
        "name": "ipython"
      }
    },
    "kernelspec": {
      "name": "python36",
      "display_name": "Python 3.6",
      "language": "python"
    }
  },
  "nbformat_minor": 2,
  "nbformat": 4,
  "cells": [
    {
      "cell_type": "markdown",
      "source": "<ol>\n<li>It is a linear data structure\n<li>It is a sequential data type\n<li>It is represented by parantheses ()\n<li>It is immutable",
      "metadata": {}
    },
    {
      "cell_type": "code",
      "source": "t = (1, 2, 3, 4, 5, 6, 7)\nprint (t)\nprint (t[:2])\nprint (t[-8:6])\nprint (t[:100])",
      "metadata": {
        "trusted": true
      },
      "execution_count": null,
      "outputs": []
    },
    {
      "cell_type": "code",
      "source": "print (\"alpha\", 20)",
      "metadata": {
        "trusted": true
      },
      "execution_count": null,
      "outputs": []
    },
    {
      "cell_type": "code",
      "source": "G = (20) #This is not recognized as a tuple, but instead as an integer\ng= (20,) #Add a comma to make it recognized as a tuple\nprint (g, G)",
      "metadata": {
        "trusted": true
      },
      "execution_count": null,
      "outputs": []
    },
    {
      "cell_type": "markdown",
      "source": "# Since it is a sequence data type, slicing, replication, and joining operators work on it.",
      "metadata": {}
    },
    {
      "cell_type": "markdown",
      "source": "# WAP to initialize a tuple to the given values and print each value on a seperate line",
      "metadata": {}
    },
    {
      "cell_type": "code",
      "source": "t = (10, 20, 30, 40, 50, 60)\nfor i in (t):\n    print (i)",
      "metadata": {
        "trusted": true
      },
      "execution_count": null,
      "outputs": []
    },
    {
      "cell_type": "markdown",
      "source": "# WAP to initialize a tuple with the same values and search for a user input element.\n# If found, print +ve and -ve index value.",
      "metadata": {}
    },
    {
      "cell_type": "code",
      "source": "t = (10, 20, 30, 40, 50, 60)\nx = int(input(\"Search this: \"))\nfor i in range (len(t)):\n    if t[i] == x:\n        print (i, (-len(t)+i))\n        break\n               \nelse:\n    print (\"Nah\")",
      "metadata": {
        "trusted": true
      },
      "execution_count": null,
      "outputs": []
    },
    {
      "cell_type": "markdown",
      "source": "# Create a tuple of n elements and count the no. of occurances and display it.",
      "metadata": {}
    },
    {
      "cell_type": "code",
      "source": "n = int(input(\"Enter no. of elements: \"))\nt = ()\nfor i in range (n):\n    x = int(input(\"Enter element: \"))\n    t+=(x,)\nprint (t)\nx = int(input(\"Find this: \"))\nc = 0\nfor i in (t):\n    if i==x:\n        c+=1\nprint (c)",
      "metadata": {
        "trusted": true
      },
      "execution_count": null,
      "outputs": []
    },
    {
      "cell_type": "markdown",
      "source": "# WAP to create a tuple of n elements and add 10 to elements at even locations, and multiply by 3 to elements at odd locations",
      "metadata": {}
    },
    {
      "cell_type": "code",
      "source": "n = int(input(\"Enter no. of elements: \"))\nt = ()\nfor i in range (n):\n    x = int(input(\"Enter element: \"))\n    t+=(x,)\n\nfor i in range (0,n+2):\n    if t[i]%2 == 0:\n        t[i]+=10\n    else:\n        t[i]=t[i]*3\nprint(t)",
      "metadata": {
        "trusted": true
      },
      "execution_count": null,
      "outputs": []
    },
    {
      "cell_type": "code",
      "source": "t= (\"hello\", \"how\", \"h\")\nprint (min(t))\nprint (max(t))",
      "metadata": {
        "trusted": true
      },
      "execution_count": 2,
      "outputs": [
        {
          "text": "h\nhow\n",
          "name": "stdout",
          "output_type": "stream"
        }
      ]
    },
    {
      "cell_type": "markdown",
      "source": "# sorted() function shows a sorted tuple, but doesn't change the index values. <br>\n# It shows as a list.",
      "metadata": {}
    },
    {
      "cell_type": "code",
      "source": "t = (1, 5, 2, 4, 3)\nprint (sorted(t))",
      "metadata": {
        "trusted": true
      },
      "execution_count": 23,
      "outputs": [
        {
          "ename": "TypeError",
          "evalue": "'tuple' object is not callable",
          "traceback": [
            "\u001b[0;31m---------------------------------------------------------------------------\u001b[0m",
            "\u001b[0;31mTypeError\u001b[0m                                 Traceback (most recent call last)",
            "\u001b[0;32m<ipython-input-23-37e9ff02c062>\u001b[0m in \u001b[0;36m<module>\u001b[0;34m\u001b[0m\n\u001b[1;32m      1\u001b[0m \u001b[0mt\u001b[0m \u001b[0;34m=\u001b[0m \u001b[0;34m(\u001b[0m\u001b[0;36m1\u001b[0m\u001b[0;34m,\u001b[0m \u001b[0;36m5\u001b[0m\u001b[0;34m,\u001b[0m \u001b[0;36m2\u001b[0m\u001b[0;34m,\u001b[0m \u001b[0;36m4\u001b[0m\u001b[0;34m,\u001b[0m \u001b[0;36m3\u001b[0m\u001b[0;34m)\u001b[0m\u001b[0;34m\u001b[0m\u001b[0m\n\u001b[0;32m----> 2\u001b[0;31m \u001b[0mprint\u001b[0m \u001b[0;34m(\u001b[0m\u001b[0msorted\u001b[0m\u001b[0;34m(\u001b[0m\u001b[0mt\u001b[0m\u001b[0;34m)\u001b[0m\u001b[0;34m)\u001b[0m\u001b[0;34m\u001b[0m\u001b[0m\n\u001b[0m",
            "\u001b[0;31mTypeError\u001b[0m: 'tuple' object is not callable"
          ],
          "output_type": "error"
        }
      ]
    },
    {
      "cell_type": "code",
      "source": "",
      "metadata": {},
      "execution_count": null,
      "outputs": []
    },
    {
      "cell_type": "code",
      "source": "",
      "metadata": {},
      "execution_count": null,
      "outputs": []
    }
  ]
}