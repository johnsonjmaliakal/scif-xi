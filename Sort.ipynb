{
  "metadata": {
    "kernelspec": {
      "display_name": "Python 3.6",
      "name": "python36",
      "language": "python"
    },
    "language_info": {
      "mimetype": "text/x-python",
      "nbconvert_exporter": "python",
      "name": "python",
      "pygments_lexer": "ipython3",
      "version": "3.6.6",
      "file_extension": ".py",
      "codemirror_mode": {
        "version": 3,
        "name": "ipython"
      }
    }
  },
  "nbformat_minor": 2,
  "nbformat": 4,
  "cells": [
    {
      "cell_type": "markdown",
      "source": "# Bubble sort",
      "metadata": {}
    },
    {
      "cell_type": "code",
      "source": "#for the no. of elements\nn = int(input(\"Enter no. of elements: \"))\nl = [0] * n\n\n#for inserting elements\nfor i in range (n):\n    l[i] = int(input(\"Enter elements: \"))\nprint (l)\n\n#for assigning order of sort\nm = int(input(\"If ascending, enter 1, else 0: \"))\nif m == 1:\n    for i in range (n-1):\n        for j in range (n-i-1):\n            if l[j]>l[j+1]:\n                l[j], l[j+1] = l[j+1], l[j]\nelse:\n    for i in range (n-1):\n        for j in range (n-i-1):\n            if l[j]<l[j+1]:\n                l[j], l[j+1] = l[j+1], l[j]\nprint (l)",
      "metadata": {
        "collapsed": true,
        "trusted": true
      },
      "execution_count": 1,
      "outputs": [
        {
          "text": "[1, 5, 2, 4, 3]\n[1, 2, 3, 4, 5]\n",
          "name": "stdout",
          "output_type": "stream"
        }
      ]
    },
    {
      "cell_type": "markdown",
      "source": "# Selection sort",
      "metadata": {}
    },
    {
      "cell_type": "code",
      "source": "#for the no. of elements\nn = int(input(\"Enter no. of elements: \"))\nl = [0] * n\n\n#for inserting elements\nfor i in range (n):\n    l[i] = int(input(\"Enter elements: \"))\nprint (l)\n\n#for assigning order of sort\nm = int(input(\"If ascending, enter 1, else 0: \"))\nif m == 1:\n    for i in range (n-1):\n        smallestNumber = l[i]\n        position=i\n        for j in range (i+1, n):\n            if l[j] < smallestNumber:\n                smallestNumber = l[j]\n                position = j\n        l[i], l[position] = l[position], l[i]\nelse:\n    for i in range (n-1):\n        s = l[i]\n        pos = i\n        for j in range (i+1, n):\n            if l[j] > s:\n                s = l[j]\n                pos = j\n        l[i], l[pos] = l[pos], l[i]\nprint (l)",
      "metadata": {
        "slideshow": {
          "slide_type": "-"
        },
        "trusted": true
      },
      "execution_count": 9,
      "outputs": [
        {
          "text": "[1, 5, 2, 4, 3]\n[1, 2, 3, 4, 5]\n",
          "name": "stdout",
          "output_type": "stream"
        }
      ]
    },
    {
      "cell_type": "markdown",
      "source": "# Insertion Sort",
      "metadata": {}
    },
    {
      "cell_type": "markdown",
      "source": "Worst sort",
      "metadata": {}
    },
    {
      "cell_type": "code",
      "source": "#for the no. of elements\nn = int(input(\"Enter no. of elements: \"))\nl = [0] * n\n\n#for inserting elements\nfor i in range (n):\n    l[i] = int(input(\"Enter elements: \"))\nprint (l)\n\nfor i in range (1, n):\n    x = l[i]\n    j = i-1\n    while ((x < l[j]) and (j >= 0)):\n        l[j+1] = l[j]\n        j = j-1\n    l[j+1] = x\n    print(l)\nprint (l)",
      "metadata": {
        "slideshow": {
          "slide_type": "slide"
        },
        "trusted": true
      },
      "execution_count": 2,
      "outputs": [
        {
          "text": "[5, 1, 4, 2, 3]\n[1, 5, 4, 2, 3]\n[1, 4, 5, 2, 3]\n[1, 2, 4, 5, 3]\n[1, 2, 3, 4, 5]\n[1, 2, 3, 4, 5]\n",
          "name": "stdout",
          "output_type": "stream"
        }
      ]
    }
  ]
}