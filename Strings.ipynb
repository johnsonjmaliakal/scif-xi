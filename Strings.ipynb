{
  "metadata": {
    "kernelspec": {
      "display_name": "Python 3.6",
      "name": "python36",
      "language": "python"
    },
    "language_info": {
      "mimetype": "text/x-python",
      "nbconvert_exporter": "python",
      "name": "python",
      "pygments_lexer": "ipython3",
      "version": "3.6.6",
      "file_extension": ".py",
      "codemirror_mode": {
        "version": 3,
        "name": "ipython"
      }
    }
  },
  "nbformat_minor": 2,
  "nbformat": 4,
  "cells": [
    {
      "cell_type": "markdown",
      "source": "# Write a program to create a list of n employees w/ ID, name, designation, and salary. If salary is > 6000 and designation is supervisor then increment by 5000",
      "metadata": {}
    },
    {
      "cell_type": "code",
      "source": "n = int(input(\"number of employee(t)s: \"))\nl = [[0 for i in range (4)]for j in range (n)]\n#ID\nfor j in (l[1]):\n    j = int (input (\"Enter id: \"))\n#name\nfor j in (l[1]):\n    j = input (\"Enter name: \")\n#d\nfor j in (l[1]):\n    j = input (\"Enter designation: \")\n#s\nfor j in (l[1]):\n    j = int (input (\"Enter salary: \"))\nfor i in (l):\n    for j in (l[i]):\n        if l[i][3] == \"supervisor\":\n            if s >= 6000:\n                s+=5000\n                print (l[i][1], l[i][2], \"gets raise!!!\")",
      "metadata": {
        "trusted": true
      },
      "execution_count": null,
      "outputs": []
    },
    {
      "cell_type": "markdown",
      "source": "# Write a program to input a string and sort the words in alphabetical order.",
      "metadata": {}
    },
    {
      "cell_type": "code",
      "source": "s = input(\"Enter string: \")\nl = s.split()\nn = len(l)\n#for assigning order of sort\n\nfor i in range (n-1):\n    for j in range (n-1):\n        if l[j]>l[j+1]:\n            l[j], l[j+1] = l[j+1], l[j]\nk =\"\"\nfor i in (l):\n    k+=i\n    k+=\" \"\n\nprint (k)",
      "metadata": {
        "trusted": true
      },
      "execution_count": null,
      "outputs": []
    },
    {
      "cell_type": "markdown",
      "source": "# Write a program to delete a user-input word.",
      "metadata": {}
    },
    {
      "cell_type": "code",
      "source": "a = input (\"Enter your string: \")\nw = input (\"Word to be deleted: \")\nl1 = len(a)\nl2 = len(w)\nn = \"\"\nx = 0\nwhile x<l1:\n    m = a.find(w, x, l1)\n    if m==-1:\n        break\n    else:\n        n+=a[x:m]\n        x = l2 + m\nn+=a[x:l1]\nprint(a)\nprint(n)",
      "metadata": {
        "trusted": true
      },
      "execution_count": 1,
      "outputs": [
        {
          "text": "I am amply smart!\nI  ply smart!\n",
          "name": "stdout",
          "output_type": "stream"
        }
      ]
    },
    {
      "cell_type": "markdown",
      "source": "# Write a program to find the longest substring in a string.",
      "metadata": {}
    },
    {
      "cell_type": "code",
      "source": "a = input(\"Input a sentence: \")\nl = a.split()\nx = \"\"\nfor i in (l):\n    if len(i) > len(x):\n        x = i\nprint(x)",
      "metadata": {
        "trusted": true
      },
      "execution_count": 3,
      "outputs": [
        {
          "text": "failure\n",
          "name": "stdout",
          "output_type": "stream"
        }
      ]
    }
  ]
}