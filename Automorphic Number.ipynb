{
  "metadata": {
    "kernelspec": {
      "display_name": "Python 3.6",
      "name": "python36",
      "language": "python"
    },
    "language_info": {
      "mimetype": "text/x-python",
      "nbconvert_exporter": "python",
      "name": "python",
      "pygments_lexer": "ipython3",
      "version": "3.6.6",
      "file_extension": ".py",
      "codemirror_mode": {
        "version": 3,
        "name": "ipython"
      }
    }
  },
  "nbformat_minor": 2,
  "nbformat": 4,
  "cells": [
    {
      "cell_type": "markdown",
      "source": "# WAP to check if a given no. is automorphic",
      "metadata": {}
    },
    {
      "cell_type": "code",
      "source": "a = int(input(\"Enter number here: \"))\nb = a**2\nl = len(str(a))\nf = 10**l\nx = b%f\nif x==a:\n    print (\"YES\")\nelse:\n    print (\"NAH\")",
      "metadata": {
        "trusted": true
      },
      "execution_count": 1,
      "outputs": [
        {
          "text": "YES\n",
          "name": "stdout",
          "output_type": "stream"
        }
      ]
    },
    {
      "cell_type": "code",
      "source": "n = int(input(\"Enter number here: \"))\nm = n\nk = n**2\nc = 1\nwhile n!=0:\n    c = c*10\n    n = n//10\nif k%c == m:\n    print(\"YAAS\")\nelse:\n    print(\"NAAH\")",
      "metadata": {
        "trusted": true
      },
      "execution_count": null,
      "outputs": []
    },
    {
      "cell_type": "code",
      "source": "t=25\nprint(len(str(t)))",
      "metadata": {
        "trusted": true
      },
      "execution_count": 1,
      "outputs": [
        {
          "text": "2\n",
          "name": "stdout",
          "output_type": "stream"
        }
      ]
    }
  ]
}