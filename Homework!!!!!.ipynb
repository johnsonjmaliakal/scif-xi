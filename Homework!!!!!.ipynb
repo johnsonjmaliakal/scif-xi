{
  "metadata": {
    "kernelspec": {
      "name": "python36",
      "display_name": "Python 3.6",
      "language": "python"
    },
    "language_info": {
      "mimetype": "text/x-python",
      "nbconvert_exporter": "python",
      "name": "python",
      "pygments_lexer": "ipython3",
      "version": "3.6.6",
      "file_extension": ".py",
      "codemirror_mode": {
        "version": 3,
        "name": "ipython"
      }
    }
  },
  "nbformat_minor": 2,
  "nbformat": 4,
  "cells": [
    {
      "cell_type": "code",
      "source": "",
      "metadata": {},
      "execution_count": null,
      "outputs": []
    },
    {
      "cell_type": "markdown",
      "source": "# Write a program to find the sum of the following series:",
      "metadata": {}
    },
    {
      "cell_type": "markdown",
      "source": "Minor doubt.... Should we use integral or regular division?",
      "metadata": {}
    },
    {
      "cell_type": "markdown",
      "source": "I'm going to use regular division.",
      "metadata": {}
    },
    {
      "cell_type": "markdown",
      "source": "# i) x + (x^2)/2! + (x^3)/3!....+ (x^n)/n!",
      "metadata": {}
    },
    {
      "cell_type": "code",
      "source": "#The first one\n#This one should show [x + (x^2)/2! + (x^3)/3!....+ (x^n)/n!]\n#Let's go!\n\nprint (\"x + (x^2)/2! + (x^3)/3!....+ (x^n)/n!\")\nx = int(input(\"Enter variable 'x' here: \"))\nn = int(input(\"Enter variable 'n' here: \"))\ns = 0\nfor a in range (1,n+1):\n    l = x**a\n    p = 1\n    while a!= 0:\n        p*=a\n        a-=1 \n    s = s + (l/p)\n\nprint (s)",
      "metadata": {
        "trusted": true
      },
      "execution_count": 4,
      "outputs": [
        {
          "text": "x + (x^2)/2! + (x^3)/3!....+ (x^n)/n!\n5.333333333333333\n",
          "name": "stdout",
          "output_type": "stream"
        }
      ]
    },
    {
      "cell_type": "markdown",
      "source": "# ii) x - (x^2)/2! + (x^3)/3! - .... +-(x^n)/n!",
      "metadata": {}
    },
    {
      "cell_type": "code",
      "source": "#the second one\n#the result should be equivalent to [x - (x^2)/2! + (x^3)/3! - .... +-(x^n)/n!]\n#the earlier one took quite a while, this might take longer...\n\nimport math\nprint (\"x - (x^2)/2! + (x^3)/3! - .... +-(x^n)/n!\")\nx = int(input(\"Enter variable 'x' here: \"))\nn = int(input(\"Enter variable 'n' here: \"))\ns = 0\nfor a in range (1,n+1,2):\n    l = x**a\n    p=1\n    while a!= 0:\n        p*=a\n        a-=1 \n    s = s + (l/p)\nS = 0\nfor A in range (2,n+1,2):\n    L = x**A\n    P=1\n    while A!= 0:\n        P*=A\n        A-=1 \n    S = S - (L/P)\nprint (S+s)",
      "metadata": {
        "trusted": true
      },
      "execution_count": 8,
      "outputs": [
        {
          "text": "x - (x^2)/2! + (x^3)/3! - .... +-(x^n)/n!\n1.333333333333333\n",
          "name": "stdout",
          "output_type": "stream"
        }
      ]
    },
    {
      "cell_type": "markdown",
      "source": "# iii) 1 + (x^2)/4 + (x^3)/6 .... +(x^n)/2n",
      "metadata": {}
    },
    {
      "cell_type": "code",
      "source": "#THE LAST HUAN!!!\n#THE RESULT SHOULD SAY [1 + (x^2)/2 + (x^3)/6 .... +(x^n)/2n]\n#LET'S-A-GO (Mario accent)\n\nprint (\"1 + (x^2)/4 + (x^3)/6 .... +(x^n)/2n\")\nx = int(input(\"Enter variable 'x' here: \"))\nn = int(input(\"Enter variable 'n' here: \"))\np = 1\nfor a in range (2,n+1,1):\n    l = x**a\n    s = (a)*2\n    p = p + (l/s)\nprint (p)",
      "metadata": {
        "trusted": true
      },
      "execution_count": 3,
      "outputs": [
        {
          "output_type": "stream",
          "text": "1 + (x^2)/4 + (x^3)/6 .... +(x^n)/2n\nEnter variable 'x' here: 2\nEnter variable 'n' here: 3\n3.333333333333333\n",
          "name": "stdout"
        }
      ]
    }
  ]
}