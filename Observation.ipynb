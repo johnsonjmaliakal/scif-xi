{
  "metadata": {
    "kernelspec": {
      "display_name": "Python 3.6",
      "name": "python36",
      "language": "python"
    },
    "language_info": {
      "mimetype": "text/x-python",
      "nbconvert_exporter": "python",
      "name": "python",
      "pygments_lexer": "ipython3",
      "version": "3.6.6",
      "file_extension": ".py",
      "codemirror_mode": {
        "version": 3,
        "name": "ipython"
      }
    }
  },
  "nbformat_minor": 2,
  "nbformat": 4,
  "cells": [
    {
      "cell_type": "markdown",
      "source": "x=1<br>\nif x &gt; 3:<br>\nif x &gt; 4:<br>\nprint( &quot;A&quot;, end=&#39; &#39;)<br>\nelse:<br>\nprint(&quot;B&quot;, end= &#39; &#39;)<br>\nelif x &lt; 2:<br>\nif x!=0 :<br>\nprint(&quot;C&quot;, end=&#39; &#39;)<br>\nprint(&quot;D&quot;)<br>\nPredict the Output",
      "metadata": {}
    },
    {
      "cell_type": "markdown",
      "source": "C D",
      "metadata": {}
    },
    {
      "cell_type": "code",
      "source": "x=1\nif x > 3:\n    if x > 4:\n        print(\"A\", end = \" \")\n    else:\n        print(\"B\", end=\" \")\nelif x < 2:\n    if x!=0 :\n        print(\"C\", end=\" \")\nprint(\"D\")",
      "metadata": {
        "trusted": true
      },
      "execution_count": 5,
      "outputs": [
        {
          "text": "C D\n",
          "name": "stdout",
          "output_type": "stream"
        }
      ]
    },
    {
      "cell_type": "markdown",
      "source": "if(a = = 0):<br>\nprint(&quot;Zero&quot;)<br>\nif(a= =1):<br>\nprint(&quot;One&quot;)<br>\nif(a= =2):<br>\nprint(&quot;Two&quot;)<br>\nif(a= =3):<br>\nprint(&quot;Three&quot;)<br>",
      "metadata": {}
    },
    {
      "cell_type": "code",
      "source": "a = int(input(\"enter\"))\nfor i in range (0, 4, 1):\n    if a==i:\n        print (i)",
      "metadata": {
        "trusted": true
      },
      "execution_count": 10,
      "outputs": [
        {
          "text": "3\n",
          "name": "stdout",
          "output_type": "stream"
        }
      ]
    },
    {
      "cell_type": "code",
      "source": "for a in range (3, 10, 2):\n    for b in range (1, a, 2):\n        print (b, end=\" \")\n    print()",
      "metadata": {
        "trusted": true
      },
      "execution_count": 12,
      "outputs": [
        {
          "text": "1 \n1 3 \n1 3 5 \n1 3 5 7 \n",
          "name": "stdout",
          "output_type": "stream"
        }
      ]
    },
    {
      "cell_type": "code",
      "source": "a = 3\nwhile a < 10:\n    b=1\n    while b < a:\n        print (b, end=\" \")\n        b+=2\n    print()\n    a+=2",
      "metadata": {
        "trusted": true
      },
      "execution_count": 14,
      "outputs": [
        {
          "text": "1 \n1 3 \n1 3 5 \n1 3 5 7 \n",
          "name": "stdout",
          "output_type": "stream"
        }
      ]
    },
    {
      "cell_type": "code",
      "source": "for i in range (9, 3, -1):\n    print (i)",
      "metadata": {
        "trusted": true
      },
      "execution_count": 15,
      "outputs": [
        {
          "text": "9\n8\n7\n6\n5\n4\n",
          "name": "stdout",
          "output_type": "stream"
        }
      ]
    },
    {
      "cell_type": "code",
      "source": "",
      "metadata": {},
      "execution_count": null,
      "outputs": []
    }
  ]
}