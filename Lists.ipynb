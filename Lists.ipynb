{
  "metadata": {
    "kernelspec": {
      "display_name": "Python 3.6",
      "language": "python",
      "name": "python36"
    },
    "language_info": {
      "codemirror_mode": {
        "name": "ipython",
        "version": 3
      },
      "file_extension": ".py",
      "mimetype": "text/x-python",
      "name": "python",
      "nbconvert_exporter": "python",
      "pygments_lexer": "ipython3",
      "version": "3.6.6"
    }
  },
  "nbformat_minor": 2,
  "nbformat": 4,
  "cells": [
    {
      "cell_type": "code",
      "source": "l=[10, 12, 14, 20, 22, 24, 30, 32, 34]\nprint (l)\nprint (l[2])\nprint (l[6])\nprint (l[-9])\nprint (l[-3])\n#print (l[20])\nprint (l[-6])\nt = l[2:7]\nprint (l)\nprint (t)\nprint (t*3)\nprint (l[3:30])\nprint (l[2:10:3])\n",
      "metadata": {
        "collapsed": true
      },
      "execution_count": 3,
      "outputs": [
        {
          "name": "stdout",
          "output_type": "stream",
          "text": "[10, 12, 14, 20, 22, 24, 30, 32, 34]\n14\n30\n10\n30\n20\n[10, 12, 14, 20, 22, 24, 30, 32, 34]\n[14, 20, 22, 24, 30]\n"
        }
      ]
    },
    {
      "cell_type": "code",
      "source": "l = [10, 3, 6, 9, 5, 2]\nprint (l)\nn = 6\ne = l[n-1]\nfor j in range (n-2, -1,-1):\n    l[j], l[j+1] = l[j+1], l[j]\nl[0] = e\nprint (l)",
      "metadata": {
        "trusted": true
      },
      "execution_count": 11,
      "outputs": [
        {
          "text": "[10, 3, 6, 9, 5, 2]\n[2, 10, 3, 6, 9, 5]\n",
          "name": "stdout",
          "output_type": "stream"
        }
      ]
    },
    {
      "cell_type": "markdown",
      "source": "# WAP to find the row sums and column sums.",
      "metadata": {}
    },
    {
      "cell_type": "code",
      "source": "n = int(input(\"Enter no of columns: \"))\nm = int(input(\"Enter no of rows: \"))\nL = [[0for i in range(n)]for j in range (m)]\nfor j in range (m):\n    for i in range (n):\n        L[j][i] = int(input(\"Enter: \"))\nprint (L)\nk = 0  \nfor i in range (n):\n    for j in range (m):\n        x = L[i][j]\n        print (x)\n        if x >= k:\n            k = L[i][j]\n            continue\n        else: \n            continue\nprint (L)",
      "metadata": {
        "trusted": true
      },
      "execution_count": 7,
      "outputs": [
        {
          "text": "[[3, 2], [4, 1]]\n[[3, 2], [4, 1]]\n3\n2\n4\n1\n[[3, 2], [4, 1]]\n",
          "name": "stdout",
          "output_type": "stream"
        }
      ]
    },
    {
      "cell_type": "code",
      "source": "n = int(input(\"Enter no of columns: \"))\nm = int(input(\"Enter no of rows: \"))\nL = [[0for i in range(n)]for j in range (m)]\nfor j in range (m):\n    for i in range (n):\n        L[j][i] = int(input(\"Enter: \"))\nprint (L)\n\n\n#sum of rows\nfor i in range (n):\n    s = 0\n    for j in range (m):\n        s += L[i][j]\n    print (i+1, \"row sum is\", s)\n\n#sum of columns\nfor i in range (m):\n    s = 0\n    for j in range (n):\n        s += L[i][j]\n    print (i+1, \"column sum is\", s)",
      "metadata": {
        "trusted": true
      },
      "execution_count": 2,
      "outputs": [
        {
          "text": "[[1, 2, 3], [4, 5, 6], [7, 8, 9]]\n1 row sum is 6\n2 row sum is 15\n3 row sum is 24\n1 column sum is 6\n2 column sum is 15\n3 column sum is 24\n",
          "name": "stdout",
          "output_type": "stream"
        }
      ]
    },
    {
      "cell_type": "markdown",
      "source": "# Write a program to swap the first and third column of a 2D list.",
      "metadata": {}
    },
    {
      "cell_type": "code",
      "source": "n = int(input(\"Enter no of columns: \"))\nm = int(input(\"Enter no of rows: \"))\nL = [[0for i in range(n)]for j in range (m)]\nfor j in range (m):\n    for i in range (n):\n        L[j][i] = int(input(\"Enter: \"))\nfor j in range (m):\n    for i in range (n):\n        print(L[j][i], end = \" \")\n    print()\n\nfor i in range (m):\n    L[i][0],L[i][2] = L[i][2], L[i][0]\n    \nfor j in range (m):\n    for i in range (n):\n        print(L[j][i], end = \" \")\n    print()",
      "metadata": {
        "trusted": true
      },
      "execution_count": 3,
      "outputs": [
        {
          "text": "1 2 3 \n4 5 6 \n7 8 9 \n3 2 1 \n6 5 4 \n9 8 7 \n",
          "name": "stdout",
          "output_type": "stream"
        }
      ]
    },
    {
      "cell_type": "markdown",
      "source": "# WAP to shift all 0 in a list to right.",
      "metadata": {}
    },
    {
      "cell_type": "code",
      "source": "l = [1, 0, 2, 3, 0, 0, 4]\nn = len(l)\nfor i in range (n-1):\n    for j in range (0, n-1):\n        if l[j]==0:\n            l[j], l[j+1] = l[j+1], l[j]\nprint(l)",
      "metadata": {
        "trusted": true
      },
      "execution_count": 1,
      "outputs": [
        {
          "text": "[1, 2, 3, 4, 0, 0, 0]\n",
          "name": "stdout",
          "output_type": "stream"
        }
      ]
    },
    {
      "cell_type": "code",
      "source": "n = int (input(\"Enter: \"))\nl = [0]*n\nfor i in range (n):\n    l[i] = int(input(\"Enter elements: \"))\nfor j in range (n):\n    l.remove(0)\n    l.append(0)\nprint (l)",
      "metadata": {
        "trusted": true
      },
      "execution_count": 5,
      "outputs": [
        {
          "text": "[1, 2, 3, 0, 0]\n",
          "name": "stdout",
          "output_type": "stream"
        }
      ]
    },
    {
      "cell_type": "markdown",
      "source": "# WAP to convert 1D list to 2D list",
      "metadata": {}
    },
    {
      "cell_type": "code",
      "source": "n = int (input(\"Enter: \"))\nl = [0]*n\nfor i in range (n):\n    l[i] = int(input(\"Enter elements: \"))\nL = [[0for i in range(n)]for j in range (n)]\nfor j in range (0, n):\n    for i in range (0, j+1):\n        L[j][i] = l[i]\nprint (l)\nprint(L)\n\nfor j in range (n):\n    for i in range (n):\n        print(L[j][i], end = \" \")\n    print()",
      "metadata": {
        "trusted": true
      },
      "execution_count": 1,
      "outputs": [
        {
          "text": "[1, 2, 3, 4, 5]\n[[1, 0, 0, 0, 0], [1, 2, 0, 0, 0], [1, 2, 3, 0, 0], [1, 2, 3, 4, 0], [1, 2, 3, 4, 5]]\n1 0 0 0 0 \n1 2 0 0 0 \n1 2 3 0 0 \n1 2 3 4 0 \n1 2 3 4 5 \n",
          "name": "stdout",
          "output_type": "stream"
        }
      ]
    },
    {
      "cell_type": "code",
      "source": "n = int (input(\"Enter: \"))\nl = [0]*n\nfor i in range (n):\n    l[i] = int(input(\"Enter elements: \"))\nL = [[0for i in range(n)]for j in range (n)]\n\nx = 0\nfor j in range (n-1, -1, -1):\n    L[x][j] = l[j]\n    x+=1\n\nfor j in range (0, n):\n    L[j][j] = l[j]\n\nprint (l)\n\nfor j in range (n):\n    for i in range (n):\n        print(L[j][i], end = \" \")\n    print()",
      "metadata": {
        "trusted": true
      },
      "execution_count": 29,
      "outputs": [
        {
          "text": "[1, 2, 3, 4, 5]\n0 0 0 0 5 \n0 0 0 4 0 \n0 0 3 0 0 \n0 2 0 0 0 \n1 0 0 0 0 \n",
          "name": "stdout",
          "output_type": "stream"
        }
      ]
    },
    {
      "cell_type": "markdown",
      "source": "# Write a program to shift all zeroes to left",
      "metadata": {}
    },
    {
      "cell_type": "code",
      "source": "l = [1, 0, 2, 3, 0, 0, 4]\nn = len(l)\nfor i in range (n-1):\n    for j in range (n-1, 0, -1):\n        if l[j]==0:\n            l[j], l[j-1] = l[j-1], l[j]\nprint(l)",
      "metadata": {
        "trusted": true
      },
      "execution_count": 1,
      "outputs": [
        {
          "text": "[0, 0, 0, 1, 2, 3, 4]\n",
          "name": "stdout",
          "output_type": "stream"
        }
      ]
    },
    {
      "cell_type": "markdown",
      "source": "# Write a program to display the diagonals of a 2D list",
      "metadata": {}
    },
    {
      "cell_type": "code",
      "source": "l=[]\nn = int(input (\"Enter something idk: \"))\nl=[[0 for i in range(n)]for j in range(n)]\nfor j in range(n):\n    for i in range(n):\n        l[j][i]=int(input(\"enter the values:\"))\nfor j in range(n):\n    for i in range(n):\n        if j == i or j+i == n-1:\n            print(l[j][i], end = \" \")\n        else:\n            print(\" \", end = \" \")\n    print()\nprint(l)",
      "metadata": {
        "trusted": true
      },
      "execution_count": 7,
      "outputs": [
        {
          "text": "1   3 \n  4   \n7   9 \n[[1, 2, 3], [5, 4, 6], [7, 8, 9]]\n",
          "name": "stdout",
          "output_type": "stream"
        }
      ]
    },
    {
      "cell_type": "markdown",
      "source": "# Write a program to merge two sorted lists",
      "metadata": {}
    },
    {
      "cell_type": "code",
      "source": "m=int(input(\"Enter no of elements\"))\nA=[0]*m\nfor i in range(m):\n    A[i]=int(input(\"Enter element\"))\nprint(A)\n    \nn=int(input(\"Enter no of elements\"))\nB=[0]*n\nfor i in range(n):\n    B[i]=int(input(\"Enter element\"))\nprint(B)\n    \nctrA=m-1\nctrB=0\n\nC=(m+n)*[0]\n\ni=0\nwhile ctrA>=0 and ctrB<=n-1:\n    if A[ctrA] >= B[ctrB]:\n        C[i]=A[ctrA]\n        ctrA=ctrA-1\n        i=i+1\n    else:\n        C[i]=B[ctrB]\n        ctrB=ctrB+1\n        i+=1\n    \nprint(C)\n",
      "metadata": {
        "trusted": true
      },
      "execution_count": 2,
      "outputs": [
        {
          "text": "[1, 3, 5, 7, 9]\n[10, 8, 6, 4, 2]\n[[10], [9], [8], [7], [6], [5], [4], [3], [2], 0]\n",
          "name": "stdout",
          "output_type": "stream"
        }
      ]
    }
  ]
}