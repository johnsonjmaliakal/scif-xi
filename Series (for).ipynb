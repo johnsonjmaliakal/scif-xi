{
  "cells": [
    {
      "metadata": {
        "trusted": true
      },
      "cell_type": "code",
      "source": "x=int(input('Entero numero:'))\nn=int(input('Entero a numero to squaro:'))\ns=0\nfor i in range (1,n+1):\n    k=x**i\n    s=s+k\nprint(s)",
      "execution_count": null,
      "outputs": []
    },
    {
      "metadata": {
        "trusted": true
      },
      "cell_type": "code",
      "source": "x=int(input('Entero numero:'))\nn=int(input('Entero a numero to squaro:'))\ns=0\nfor i in range (2,2*n+1,2):\n    k=x**i\n    s=s+k\nprint(s)",
      "execution_count": null,
      "outputs": []
    },
    {
      "metadata": {
        "trusted": true
      },
      "cell_type": "code",
      "source": "x=int(input('Entero numero:'))\ns=0\nfor i in range (1, x+1):\n    k=i**i\n    s=s+k\nprint (s)",
      "execution_count": 3,
      "outputs": [
        {
          "output_type": "stream",
          "name": "stdout",
          "text": "Entero numero:2\n5\n"
        }
      ]
    }
  ],
  "metadata": {
    "kernelspec": {
      "name": "python36",
      "display_name": "Python 3.6",
      "language": "python"
    },
    "language_info": {
      "mimetype": "text/x-python",
      "nbconvert_exporter": "python",
      "name": "python",
      "pygments_lexer": "ipython3",
      "version": "3.6.6",
      "file_extension": ".py",
      "codemirror_mode": {
        "version": 3,
        "name": "ipython"
      }
    }
  },
  "nbformat": 4,
  "nbformat_minor": 1
}