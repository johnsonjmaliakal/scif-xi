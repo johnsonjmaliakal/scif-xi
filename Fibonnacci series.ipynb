{
  "metadata": {
    "kernelspec": {
      "name": "python36",
      "display_name": "Python 3.6",
      "language": "python"
    },
    "language_info": {
      "mimetype": "text/x-python",
      "nbconvert_exporter": "python",
      "name": "python",
      "pygments_lexer": "ipython3",
      "version": "3.6.6",
      "file_extension": ".py",
      "codemirror_mode": {
        "version": 3,
        "name": "ipython"
      }
    }
  },
  "nbformat_minor": 2,
  "nbformat": 4,
  "cells": [
    {
      "cell_type": "code",
      "source": "n=int(input('entero numero uno: '))\na=0\nb=1\nprint (a, b, sep=\"\\n\")\nfor i in range (3, n+1):\n    c=a+b\n    print(c)\n    a,b=b,c",
      "metadata": {},
      "execution_count": null,
      "outputs": []
    }
  ]
}