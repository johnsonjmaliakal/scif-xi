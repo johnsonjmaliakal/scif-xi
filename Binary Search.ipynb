{
  "metadata": {
    "kernelspec": {
      "display_name": "Python 3.6",
      "name": "python36",
      "language": "python"
    },
    "language_info": {
      "mimetype": "text/x-python",
      "nbconvert_exporter": "python",
      "name": "python",
      "pygments_lexer": "ipython3",
      "version": "3.6.6",
      "file_extension": ".py",
      "codemirror_mode": {
        "version": 3,
        "name": "ipython"
      }
    }
  },
  "nbformat_minor": 2,
  "nbformat": 4,
  "cells": [
    {
      "cell_type": "code",
      "source": "n = int (input(\"Enter: \"))\nl = [0]*n\nfor i in range (n):\n    l[i] = int(input(\"Enter elements: \"))\nx = int(input(\"Search this: \"))\nf = 0\ne = n-1\nwhile f<= e:\n    m = (f+l)/2\n    if l[m] > x:\n        e = m-1\n    elif l[m] < x:\n        f = m+1",
      "metadata": {
        "collapsed": true
      },
      "execution_count": null,
      "outputs": []
    }
  ]
}