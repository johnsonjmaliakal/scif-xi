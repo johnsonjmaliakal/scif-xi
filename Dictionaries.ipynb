{
  "metadata": {
    "kernelspec": {
      "display_name": "Python 3.6",
      "name": "python36",
      "language": "python"
    },
    "language_info": {
      "mimetype": "text/x-python",
      "nbconvert_exporter": "python",
      "name": "python",
      "pygments_lexer": "ipython3",
      "version": "3.6.6",
      "file_extension": ".py",
      "codemirror_mode": {
        "version": 3,
        "name": "ipython"
      }
    }
  },
  "nbformat_minor": 2,
  "nbformat": 4,
  "cells": [
    {
      "cell_type": "markdown",
      "source": "# Initializing",
      "metadata": {}
    },
    {
      "cell_type": "code",
      "source": "d = {}\nn = int(input(\"Enter number of keys: \"))\nfor i in range (n):\n    a = int(input())\n    b = input()\n    d[a] = b\nprint(d)",
      "metadata": {
        "trusted": true
      },
      "execution_count": 7,
      "outputs": [
        {
          "text": "{101: 'a', 102: 'b', 103: 'c'}\n",
          "name": "stdout",
          "output_type": "stream"
        }
      ]
    },
    {
      "cell_type": "markdown",
      "source": "# Accessing",
      "metadata": {}
    },
    {
      "cell_type": "code",
      "source": "d = {\"101\":\"a\", \"102\":\"b\", \"103\":\"c\"}\nfor i in d:\n    print (i, d[i])",
      "metadata": {
        "trusted": true
      },
      "execution_count": 5,
      "outputs": [
        {
          "text": "101 a\n102 b\n103 c\n",
          "name": "stdout",
          "output_type": "stream"
        }
      ]
    },
    {
      "cell_type": "markdown",
      "source": "# items()",
      "metadata": {}
    },
    {
      "cell_type": "code",
      "source": "d = {\"101\":\"a\", \"102\":\"b\", \"103\":\"c\"}\ns = d.items()\nfor (k,v) in (s):\n    print(k,v)\nprint(s)",
      "metadata": {
        "collapsed": true,
        "trusted": true
      },
      "execution_count": 3,
      "outputs": [
        {
          "text": "101 a\n102 b\n103 c\ndict_items([('101', 'a'), ('102', 'b'), ('103', 'c')])\n",
          "name": "stdout",
          "output_type": "stream"
        }
      ]
    },
    {
      "cell_type": "markdown",
      "source": "# len()",
      "metadata": {}
    },
    {
      "cell_type": "code",
      "source": "d = {\"101\":\"a\", \"102\":\"b\", \"103\":\"c\"}\nl = len(d)\nprint(l)",
      "metadata": {
        "trusted": true
      },
      "execution_count": 8,
      "outputs": [
        {
          "text": "3\n",
          "name": "stdout",
          "output_type": "stream"
        }
      ]
    },
    {
      "cell_type": "markdown",
      "source": "# clear()",
      "metadata": {}
    },
    {
      "cell_type": "code",
      "source": "d = {\"101\":\"a\", \"102\":\"b\", \"103\":\"c\"}\nd.clear()\nprint(d)",
      "metadata": {
        "trusted": true
      },
      "execution_count": 10,
      "outputs": [
        {
          "text": "{}\n",
          "name": "stdout",
          "output_type": "stream"
        }
      ]
    },
    {
      "cell_type": "markdown",
      "source": "# ",
      "metadata": {}
    }
  ]
}