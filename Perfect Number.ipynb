{
  "metadata": {
    "kernelspec": {
      "name": "python36",
      "display_name": "Python 3.6",
      "language": "python"
    },
    "language_info": {
      "mimetype": "text/x-python",
      "nbconvert_exporter": "python",
      "name": "python",
      "pygments_lexer": "ipython3",
      "version": "3.6.6",
      "file_extension": ".py",
      "codemirror_mode": {
        "version": 3,
        "name": "ipython"
      }
    }
  },
  "nbformat_minor": 2,
  "nbformat": 4,
  "cells": [
    {
      "cell_type": "code",
      "source": "n=int(input(\"Enter a Number:\"))\nm=n\ni=1\np=0\nwhile i<n:\n    q=n%i\n    if q==0:\n        p+=i\n    i+=1\nif p==m:\n    print (\"Is PURRFECT\")\nelse:\n    print(\"U suck\")",
      "metadata": {
        "trusted": true
      },
      "execution_count": 1,
      "outputs": [
        {
          "text": "Is PURRFECT\n",
          "name": "stdout",
          "output_type": "stream"
        }
      ]
    }
  ]
}