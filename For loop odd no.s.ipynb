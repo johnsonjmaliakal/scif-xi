{
  "metadata": {
    "kernelspec": {
      "name": "python36",
      "display_name": "Python 3.6",
      "language": "python"
    },
    "language_info": {
      "mimetype": "text/x-python",
      "nbconvert_exporter": "python",
      "name": "python",
      "pygments_lexer": "ipython3",
      "version": "3.6.6",
      "file_extension": ".py",
      "codemirror_mode": {
        "version": 3,
        "name": "ipython"
      }
    }
  },
  "nbformat_minor": 2,
  "nbformat": 4,
  "cells": [
    {
      "cell_type": "code",
      "source": "x= int(input(\"entero o nomero:\"))\ny= int(input(\"entero o nomero:\"))\nfor i in range(x,y+1) :\n    if (i%2)==1:\n        print (i)\n    else:\n        continue",
      "metadata": {
        "trusted": true
      },
      "execution_count": 1,
      "outputs": [
        {
          "text": "5\n7\n9\n11\n13\n15\n17\n19\n21\n",
          "name": "stdout",
          "output_type": "stream"
        }
      ]
    }
  ]
}