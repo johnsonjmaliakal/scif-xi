{
  "metadata": {
    "language_info": {
      "mimetype": "text/x-python",
      "nbconvert_exporter": "python",
      "name": "python",
      "pygments_lexer": "ipython3",
      "version": "3.6.6",
      "file_extension": ".py",
      "codemirror_mode": {
        "version": 3,
        "name": "ipython"
      }
    },
    "kernelspec": {
      "name": "python36",
      "display_name": "Python 3.6",
      "language": "python"
    }
  },
  "nbformat_minor": 2,
  "nbformat": 4,
  "cells": [
    {
      "cell_type": "code",
      "source": "n = int(input())\nL = [0]*n\nfor i in (L):\n    eid = int(input(\"eid\"))\n    en = input(\"ename\")\n    edes = input(\"des\")\n    esal = int(input(\"sal\"))\n    l = [eid, en, edes, esal]\n    print (l)\n    i = l\nprint(L)",
      "metadata": {
        "trusted": true
      },
      "execution_count": 3,
      "outputs": [
        {
          "text": "[1, 'a', 's', 2]\n[2, 'b', 'n', 3]\n[3, 'c', 'v', 4]\n[0, 0, 0]\n",
          "name": "stdout",
          "output_type": "stream"
        }
      ]
    },
    {
      "cell_type": "markdown",
      "source": "<ul>\n<li>It is a linear data structure\n<li>It is a sequential data type\n<li>It is represented by parantheses ()\n<li>It is immutable",
      "metadata": {}
    },
    {
      "cell_type": "code",
      "source": "l=[10,30,50,70]\nl2=[60,40,20,5]\nl3=[]\nfor i in range(len(l)-1,-1,-1):\n    for j in range(len(l2)-1,-1,-1):\n        if l[i]>l2[j]:\n            l3+=[l[i]]\n            i+=1\n        elif l2[j]>l[i]:\n            l3+=[l2[j]]\n        elif l2[j]==l[i]:\n            l3+=[l2[j]]\n            i+=1\nprint(l)\nprint(l2)\nprint(l3)",
      "metadata": {
        "trusted": true
      },
      "execution_count": 8,
      "outputs": [
        {
          "ename": "IndexError",
          "evalue": "list index out of range",
          "traceback": [
            "\u001b[0;31m---------------------------------------------------------------------------\u001b[0m",
            "\u001b[0;31mIndexError\u001b[0m                                Traceback (most recent call last)",
            "\u001b[0;32m<ipython-input-8-e8f60a6a8204>\u001b[0m in \u001b[0;36m<module>\u001b[0;34m\u001b[0m\n\u001b[1;32m      4\u001b[0m \u001b[0;32mfor\u001b[0m \u001b[0mi\u001b[0m \u001b[0;32min\u001b[0m \u001b[0mrange\u001b[0m\u001b[0;34m(\u001b[0m\u001b[0mlen\u001b[0m\u001b[0;34m(\u001b[0m\u001b[0ml\u001b[0m\u001b[0;34m)\u001b[0m\u001b[0;34m-\u001b[0m\u001b[0;36m1\u001b[0m\u001b[0;34m,\u001b[0m\u001b[0;34m-\u001b[0m\u001b[0;36m1\u001b[0m\u001b[0;34m,\u001b[0m\u001b[0;34m-\u001b[0m\u001b[0;36m1\u001b[0m\u001b[0;34m)\u001b[0m\u001b[0;34m:\u001b[0m\u001b[0;34m\u001b[0m\u001b[0m\n\u001b[1;32m      5\u001b[0m     \u001b[0;32mfor\u001b[0m \u001b[0mj\u001b[0m \u001b[0;32min\u001b[0m \u001b[0mrange\u001b[0m\u001b[0;34m(\u001b[0m\u001b[0mlen\u001b[0m\u001b[0;34m(\u001b[0m\u001b[0ml2\u001b[0m\u001b[0;34m)\u001b[0m\u001b[0;34m-\u001b[0m\u001b[0;36m1\u001b[0m\u001b[0;34m,\u001b[0m\u001b[0;34m-\u001b[0m\u001b[0;36m1\u001b[0m\u001b[0;34m,\u001b[0m\u001b[0;34m-\u001b[0m\u001b[0;36m1\u001b[0m\u001b[0;34m)\u001b[0m\u001b[0;34m:\u001b[0m\u001b[0;34m\u001b[0m\u001b[0m\n\u001b[0;32m----> 6\u001b[0;31m         \u001b[0;32mif\u001b[0m \u001b[0ml\u001b[0m\u001b[0;34m[\u001b[0m\u001b[0mi\u001b[0m\u001b[0;34m]\u001b[0m\u001b[0;34m>\u001b[0m\u001b[0ml2\u001b[0m\u001b[0;34m[\u001b[0m\u001b[0mj\u001b[0m\u001b[0;34m]\u001b[0m\u001b[0;34m:\u001b[0m\u001b[0;34m\u001b[0m\u001b[0m\n\u001b[0m\u001b[1;32m      7\u001b[0m             \u001b[0ml3\u001b[0m\u001b[0;34m+=\u001b[0m\u001b[0;34m[\u001b[0m\u001b[0ml\u001b[0m\u001b[0;34m[\u001b[0m\u001b[0mi\u001b[0m\u001b[0;34m]\u001b[0m\u001b[0;34m]\u001b[0m\u001b[0;34m\u001b[0m\u001b[0m\n\u001b[1;32m      8\u001b[0m             \u001b[0mi\u001b[0m\u001b[0;34m+=\u001b[0m\u001b[0;36m1\u001b[0m\u001b[0;34m\u001b[0m\u001b[0m\n",
            "\u001b[0;31mIndexError\u001b[0m: list index out of range"
          ],
          "output_type": "error"
        }
      ]
    },
    {
      "cell_type": "code",
      "source": "c = int(input(\"\"))\nr = int(input(\"\"))\np = [[0 for j in range (c)] for i in range (r)]\nfor i in range (r):\n    for j in range(c):\n        p[i][j]=int(input(\"\"))\nfor i in range (r):\n    for j in range (c-1, i, -1):\n        print (p[i][j], end= \"\")\n    print()\n",
      "metadata": {
        "trusted": true
      },
      "execution_count": 6,
      "outputs": [
        {
          "text": "32\n6\n\n",
          "name": "stdout",
          "output_type": "stream"
        }
      ]
    },
    {
      "cell_type": "code",
      "source": "t = (1, 2, 3, 4, 5, 6, 7)\nprint (t)\nprint (t[:2])\nprint (t[-8:6])\nprint (t[:100])",
      "metadata": {
        "trusted": true
      },
      "execution_count": 2,
      "outputs": [
        {
          "text": "(1, 2, 3, 4, 5, 6, 7)\n(1, 2)\n(1, 2, 3, 4, 5, 6)\n(1, 2, 3, 4, 5, 6, 7)\n",
          "name": "stdout",
          "output_type": "stream"
        }
      ]
    },
    {
      "cell_type": "code",
      "source": "print(ord())",
      "metadata": {
        "trusted": true
      },
      "execution_count": 4,
      "outputs": [
        {
          "ename": "TypeError",
          "evalue": "ord() takes exactly one argument (0 given)",
          "traceback": [
            "\u001b[0;31m---------------------------------------------------------------------------\u001b[0m",
            "\u001b[0;31mTypeError\u001b[0m                                 Traceback (most recent call last)",
            "\u001b[0;32m<ipython-input-4-788ae05441f3>\u001b[0m in \u001b[0;36m<module>\u001b[0;34m\u001b[0m\n\u001b[0;32m----> 1\u001b[0;31m \u001b[0mprint\u001b[0m\u001b[0;34m(\u001b[0m\u001b[0mord\u001b[0m\u001b[0;34m(\u001b[0m\u001b[0;34m)\u001b[0m\u001b[0;34m)\u001b[0m\u001b[0;34m\u001b[0m\u001b[0m\n\u001b[0m",
            "\u001b[0;31mTypeError\u001b[0m: ord() takes exactly one argument (0 given)"
          ],
          "output_type": "error"
        }
      ]
    },
    {
      "cell_type": "code",
      "source": "t = ((1, 2, 3), (4, 5, 6), (7, 8, 9))\nn = len(t)\nl = [0]*n\nfor i in range (n):\n    l[i] = list(t[i])\nprint (t)\nprint (l)",
      "metadata": {
        "trusted": true
      },
      "execution_count": 8,
      "outputs": [
        {
          "text": "((1, 2, 3), (4, 5, 6), (7, 8, 9))\n[[1, 2, 3], [4, 5, 6], [7, 8, 9]]\n",
          "name": "stdout",
          "output_type": "stream"
        }
      ]
    },
    {
      "cell_type": "code",
      "source": "while True:\n    try:\n        n = int(input(\" \"))\n    except ValueError:\n        print(\"YAKHI ENTER NUMBER\")\n        continue\n    if n == 1:\n        print(\"RESTARTING...\")",
      "metadata": {
        "trusted": true
      },
      "execution_count": null,
      "outputs": [
        {
          "text": "YAKHI ENTER NUMBER\nYAKHI ENTER NUMBER\nRESTARTING...\n",
          "name": "stdout",
          "output_type": "stream"
        }
      ]
    },
    {
      "cell_type": "code",
      "source": "for i in range ",
      "metadata": {},
      "execution_count": null,
      "outputs": []
    },
    {
      "cell_type": "code",
      "source": "l = ['a', 'm', 'a', 'z', 'i', 'n', 'g']    \nl[2:4] = ['m']\nprint(l)\nl[3:5] = []\nprint (l)",
      "metadata": {
        "trusted": true
      },
      "execution_count": 4,
      "outputs": [
        {
          "text": "['a', 'm', 'm', 'i', 'n', 'g']\n['a', 'm', 'm', 'g']\n",
          "name": "stdout",
          "output_type": "stream"
        }
      ]
    },
    {
      "cell_type": "code",
      "source": "L = [(11, 12), (2, 30), (13, 15), (2, 10), (1, 15)]\nn = len(L)\nl = list(L[n-1])\nx = len(l)\nl[x-1] = int(input(\"HYELLO\"))\nL[n-1] = tuple(l)\nprint(L)",
      "metadata": {
        "trusted": true
      },
      "execution_count": 1,
      "outputs": [
        {
          "text": "[(11, 12), (2, 30), (13, 15), (2, 10), (1, 23)]\n",
          "name": "stdout",
          "output_type": "stream"
        }
      ]
    },
    {
      "cell_type": "code",
      "source": "print(\"a\", \"a\", sep = \"\\n\")",
      "metadata": {
        "trusted": true
      },
      "execution_count": 2,
      "outputs": [
        {
          "text": "a\na\n",
          "name": "stdout",
          "output_type": "stream"
        }
      ]
    },
    {
      "cell_type": "code",
      "source": "l = [(11, 12), (2, 30), (13, 15), (2, 10), (1, 15)]\nk = l[0][0]+l[0][1]\nfor i in range (1, len(l)):\n    if k<(l[i][0]+l[i][1]):\n        k = l[i][0]+l[i][1]\n        p = i\nprint (l[p])",
      "metadata": {
        "trusted": true
      },
      "execution_count": null,
      "outputs": []
    }
  ]
}