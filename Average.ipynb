{
  "metadata": {
    "language_info": {
      "mimetype": "text/x-python",
      "nbconvert_exporter": "python",
      "name": "python",
      "pygments_lexer": "ipython3",
      "version": "3.6.6",
      "file_extension": ".py",
      "codemirror_mode": {
        "version": 3,
        "name": "ipython"
      }
    },
    "kernelspec": {
      "name": "python36",
      "display_name": "Python 3.6",
      "language": "python"
    }
  },
  "nbformat_minor": 2,
  "nbformat": 4,
  "cells": [
    {
      "cell_type": "code",
      "source": "n = 0\na = 0\nwhile (1==1):\n    m = int(input(\"Enter Number: \"))\n    if m!=0:\n        a=a+1\n    else:\n        break\n    n+=m\np = n/a\nprint (p)",
      "metadata": {
        "trusted": true
      },
      "execution_count": 3,
      "outputs": [
        {
          "text": "2.0\n",
          "name": "stdout",
          "output_type": "stream"
        }
      ]
    }
  ]
}