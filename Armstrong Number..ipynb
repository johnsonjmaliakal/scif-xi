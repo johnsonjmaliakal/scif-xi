{
  "metadata": {
    "language_info": {
      "mimetype": "text/x-python",
      "nbconvert_exporter": "python",
      "name": "python",
      "pygments_lexer": "ipython3",
      "version": "3.6.6",
      "file_extension": ".py",
      "codemirror_mode": {
        "version": 3,
        "name": "ipython"
      }
    },
    "kernelspec": {
      "name": "python36",
      "display_name": "Python 3.6",
      "language": "python"
    }
  },
  "nbformat_minor": 2,
  "nbformat": 4,
  "cells": [
    {
      "cell_type": "code",
      "source": "n=int(input(\"Enter your number here:\"))\nm=n\ns=0\nwhile n!=0:\n    k=n%10\n    q=k**3\n    s+=q\n    n//=10\n      \nif s==m:\n    print(\"Is an Armstrong no.\")\nelse:\n    print (\"Not Armstrong. (you suck)\")\n",
      "metadata": {
        "trusted": true
      },
      "execution_count": 5,
      "outputs": [
        {
          "output_type": "stream",
          "name": "stdout",
          "text": "Enter your number here:370\nIs an Angstrom no.\n"
        }
      ]
    }
  ]
}