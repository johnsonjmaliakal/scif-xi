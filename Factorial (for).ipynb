{
  "metadata": {
    "kernelspec": {
      "name": "python36",
      "display_name": "Python 3.6",
      "language": "python"
    },
    "language_info": {
      "mimetype": "text/x-python",
      "nbconvert_exporter": "python",
      "name": "python",
      "pygments_lexer": "ipython3",
      "version": "3.6.6",
      "file_extension": ".py",
      "codemirror_mode": {
        "version": 3,
        "name": "ipython"
      }
    }
  },
  "nbformat_minor": 2,
  "nbformat": 4,
  "cells": [
    {
      "cell_type": "code",
      "source": "n = int(input(\"Enter your number of choice here: \"))\nf = 1\n  \nfor i in range(1,n+1): \n    f = f * i \n      \nprint (\"The factorial of\", n,\"is : \",end=\"\") \nprint (f) ",
      "metadata": {
        "trusted": true
      },
      "execution_count": 1,
      "outputs": [
        {
          "text": "The factorial of 5 is : 120\n",
          "name": "stdout",
          "output_type": "stream"
        }
      ]
    }
  ]
}