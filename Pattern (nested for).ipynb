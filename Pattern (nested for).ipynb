{
  "metadata": {
    "kernelspec": {
      "display_name": "Python 3.6",
      "name": "python36",
      "language": "python"
    },
    "language_info": {
      "mimetype": "text/x-python",
      "nbconvert_exporter": "python",
      "name": "python",
      "pygments_lexer": "ipython3",
      "version": "3.6.6",
      "file_extension": ".py",
      "codemirror_mode": {
        "version": 3,
        "name": "ipython"
      }
    }
  },
  "nbformat_minor": 2,
  "nbformat": 4,
  "cells": [
    {
      "cell_type": "markdown",
      "source": "# Write a code to output the following:\n1<br>\n12<br>\n123<br>\n1234<br>\n123<br>\n12<br>\n1",
      "metadata": {}
    },
    {
      "cell_type": "code",
      "source": "n = int(input(\"Enter a number: \"))\nfor i in range (1, n):\n    for j in range (1, i+1):\n        print (j, end = \" \")\n    print()\nfor i in range (n, 0, -1):\n    for j in range (1, i+1):\n        print (j, end = \" \")\n    print()",
      "metadata": {
        "trusted": true
      },
      "execution_count": 1,
      "outputs": [
        {
          "text": "1 \n1 2 \n1 2 3 \n1 2 3 4 \n1 2 3 \n1 2 \n1 \n",
          "name": "stdout",
          "output_type": "stream"
        }
      ]
    },
    {
      "cell_type": "markdown",
      "source": "# Write a code to print the following patterns:\n54321<br>\n5432<br>\n543<br>\n54<br>\n5<br>",
      "metadata": {}
    },
    {
      "cell_type": "code",
      "source": "n = int(input(\"Enter a number: \"))\nfor i in range (1, n+1, 1):\n    for j in range (n, i-1, -1):\n        print (j, end=\"\")\n    print ()",
      "metadata": {
        "collapsed": true,
        "trusted": true
      },
      "execution_count": 2,
      "outputs": [
        {
          "text": "54321\n5432\n543\n54\n5\n",
          "name": "stdout",
          "output_type": "stream"
        }
      ]
    },
    {
      "cell_type": "markdown",
      "source": "1<br>\n12<br>\n123<br>\n1234<br>\n12345",
      "metadata": {}
    },
    {
      "cell_type": "code",
      "source": "n = int(input(\"Enter a number: \"))\nfor i in range (1, n+1):\n    for j in range (1, i+1):\n        print(j, end=\"\")\n    print ()",
      "metadata": {
        "trusted": true
      },
      "execution_count": 3,
      "outputs": [
        {
          "text": "1\n12\n123\n1234\n12345\n",
          "name": "stdout",
          "output_type": "stream"
        }
      ]
    },
    {
      "cell_type": "markdown",
      "source": "` *****`<br>\n` ****`<br>\n` ***`<br>\n` **`<br>\n` *`",
      "metadata": {}
    },
    {
      "cell_type": "code",
      "source": "n = int(input(\"Enter a number: \"))\nfor i in range (n, 0, -1):\n    for j in range (i,0, -1):\n        print (\"*\", end = \"\")\n    print ()",
      "metadata": {
        "trusted": true
      },
      "execution_count": 4,
      "outputs": [
        {
          "text": "*****\n****\n***\n**\n*\n",
          "name": "stdout",
          "output_type": "stream"
        }
      ]
    },
    {
      "cell_type": "markdown",
      "source": "` *`<br>\n` * *`<br>\n` * * *`<br>\n` * * * *`<br>\n` * * * * *`",
      "metadata": {}
    },
    {
      "cell_type": "code",
      "source": "n = int(input(\"Enter a number: \"))\nfor i in range (1, n+1):\n    for j in range (i):\n        print (\"*\", end = \" \")\n    print()",
      "metadata": {
        "trusted": true
      },
      "execution_count": 1,
      "outputs": [
        {
          "text": "* \n* * \n* * * \n* * * * \n* * * * * \n",
          "name": "stdout",
          "output_type": "stream"
        }
      ]
    },
    {
      "cell_type": "markdown",
      "source": "1<br>\n121<br>\n12321<br>\n1234321<br>\n123454321",
      "metadata": {}
    },
    {
      "cell_type": "code",
      "source": "n = int(input(\"Enter a Number: \"))\nfor i in range (1, n+1):\n    for j in range (1, i):\n        print (j, end=\"\")\n    for k in range (i, 0, -1):\n        print (k, end=\"\")\n    print()",
      "metadata": {
        "trusted": true
      },
      "execution_count": 1,
      "outputs": [
        {
          "text": "1\n121\n12321\n1234321\n123454321\n",
          "name": "stdout",
          "output_type": "stream"
        }
      ]
    }
  ]
}