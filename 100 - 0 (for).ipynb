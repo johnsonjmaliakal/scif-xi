{
  "metadata": {
    "kernelspec": {
      "name": "python36",
      "display_name": "Python 3.6",
      "language": "python"
    },
    "language_info": {
      "mimetype": "text/x-python",
      "nbconvert_exporter": "python",
      "name": "python",
      "pygments_lexer": "ipython3",
      "version": "3.6.6",
      "file_extension": ".py",
      "codemirror_mode": {
        "version": 3,
        "name": "ipython"
      }
    }
  },
  "nbformat_minor": 2,
  "nbformat": 4,
  "cells": [
    {
      "cell_type": "markdown",
      "source": "Write a program to print as given below:\n    100, 95, 85, 80, ..... 0.",
      "metadata": {}
    },
    {
      "cell_type": "code",
      "source": "for i in range (100, -1,-5):\n    if i!=0:\n        print (i, \",\", end=\" \")\n    else:\n        print (i, \".\")",
      "metadata": {
        "trusted": true
      },
      "execution_count": 3,
      "outputs": [
        {
          "text": "100 , 95 , 90 , 85 , 80 , 75 , 70 , 65 , 60 , 55 , 50 , 45 , 40 , 35 , 30 , 25 , 20 , 15 , 10 , 5 , 0 .\n",
          "name": "stdout",
          "output_type": "stream"
        }
      ]
    }
  ]
}