{
  "metadata": {
    "language_info": {
      "mimetype": "text/x-python",
      "nbconvert_exporter": "python",
      "name": "python",
      "pygments_lexer": "ipython3",
      "version": "3.6.6",
      "file_extension": ".py",
      "codemirror_mode": {
        "version": 3,
        "name": "ipython"
      }
    },
    "kernelspec": {
      "name": "python36",
      "display_name": "Python 3.6",
      "language": "python"
    }
  },
  "nbformat_minor": 2,
  "nbformat": 4,
  "cells": [
    {
      "cell_type": "markdown",
      "source": "# Write a Menu driven program to:<br>\n<ol>\n<li>Create a 2-D list of ItemNo., ItemName, Price\n<li>Display list\n<li>Update price by price*10if ItemName = \"Powder\"\n<li>Delete all items with Price = 100\n<li>Exit\n</ol>",
      "metadata": {}
    },
    {
      "cell_type": "code",
      "source": "while True:\n    print (\"CHOOSE AN OPTION: \")\n    print (\"[1] Create a 2-D list of ItemNo., ItemName, Price\")\n    print (\"[2] Display list\")\n    print ('[3] Update price by price*10if ItemName = \"Powder\"')\n    print (\"[4] Delete all items with Price = 100\")\n    print (\"[5] Exit\")\n    try:\n        n = int(input(\"Enter your option: \"))\n    except :\n        print (\"YAKHI ENTER NUMBER IN OPTION\")\n        continue\n    if n==1:\n        while True:\n            try:\n                f = int(input(\"Enter number of items: \"))\n                l = []\n                for i in range (f):\n                    ino = int(input(\"Item Number: \"))\n                    ina = input (\"Item Name: \")\n                    p = int(input(\"Price: \"))\n                    l+=[[ino, ina, p]]\n            except ValueError:\n                print (\"YAKHI IT NOT SO HARD DO IT BROPBERLY\")\n                continue\n            finally:\n                break\n    elif n==2:\n        for i in (l):\n            print (i)\n    elif n == 3:\n        for i in (l):\n           i[2]*= 10\n    elif n == 4:\n        for i in range (f):\n            if (l[i][2] == 100) :\n               l.pop(i)\n    elif n == 5:\n        break\n    else:\n        print(\"YAKHI ENTER A NUMBER IN THE OPTION\")\n        continue",
      "metadata": {
        "trusted": true
      },
      "execution_count": null,
      "outputs": [
        {
          "text": "CHOOSE AN OPTION: \n[1] Create a 2-D list of ItemNo., ItemName, Price\n[2] Display list\n[3] Update price by price*10if ItemName = \"Powder\"\n[4] Delete all items with Price = 100\n[5] Exit\n",
          "name": "stdout",
          "output_type": "stream"
        }
      ]
    },
    {
      "cell_type": "markdown",
      "source": "# Write a menu driven program to:\n - insert a new element\n - display\n - search for a record\n - delete all clerks\n - update salary by 1000 for managers\n - exit",
      "metadata": {}
    },
    {
      "cell_type": "code",
      "source": "while True:\n    print (\"CHOOSE AN OPTION: \")\n    print (\"[1] insert new element\")\n    print (\"[2] Display list\")\n    print ('[3] search for a record')\n    print (\"[4] Delete all items with Price = 100\")\n    print (\"[5] Exit\")",
      "metadata": {},
      "execution_count": null,
      "outputs": []
    }
  ]
}